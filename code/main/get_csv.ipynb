{
 "cells": [
  {
   "cell_type": "code",
   "execution_count": 22,
   "metadata": {},
   "outputs": [
    {
     "name": "stdout",
     "output_type": "stream",
     "text": [
      "sz2nd\n"
     ]
    }
   ],
   "source": [
    "import pickle\n",
    "import pandas as pd\n",
    "import sys\n",
    "sys.path.append(\"..\")\n",
    "from toputils import *\n",
    "from tqdm import tqdm\n",
    "\n",
    "tgttop, _, config = read_config()\n",
    "print(tgttop)"
   ]
  },
  {
   "cell_type": "code",
   "execution_count": 23,
   "metadata": {},
   "outputs": [
    {
     "name": "stdout",
     "output_type": "stream",
     "text": [
      "1650253\n",
      "1122385\n"
     ]
    }
   ],
   "source": [
    "trajs = pickle.load(open(f\"data/trajs_release_{tgttop}.pkl\", \"rb\"))\n",
    "print(len(trajs))\n",
    "print(len({t[\"vid\"] for t in trajs}))"
   ]
  },
  {
   "cell_type": "code",
   "execution_count": 24,
   "metadata": {},
   "outputs": [
    {
     "name": "stderr",
     "output_type": "stream",
     "text": [
      "100%|██████████| 1650253/1650253 [05:49<00:00, 4728.05it/s] \n"
     ]
    }
   ],
   "source": [
    "# 生成traj.csv\n",
    "columns = [\"VehicleID\", \"TripID\", \"Points\", \"DepartureTime\", \"Duration\", \"Length\"]\n",
    "lines = []\n",
    "cid2vid = {}\n",
    "for tj in tqdm(trajs):\n",
    "    cid = tj[\"vid\"]\n",
    "    if cid in cid2vid:\n",
    "        vid = cid2vid[cid]\n",
    "    else:\n",
    "        vid = len(cid2vid)\n",
    "        cid2vid[cid] = vid\n",
    "\n",
    "    ps = tj[\"ps\"]\n",
    "    ps = [[n, round(t, 1)] for n, t in ps]\n",
    "    dt = ps[0][1]\n",
    "    dr = ps[-1][-1] - ps[0][1]\n",
    "    ps = \"_\".join([\n",
    "        \"-\".join([str(n), f\"{t:.1f}\"])\n",
    "        for n, t in ps])\n",
    "    \n",
    "    lines.append([\n",
    "        str(vid), str(tj[\"tid\"]), ps, f\"{dt:.1f}\", f\"{dr:.1f}\", f\"{tj['l']:.1f}\"\n",
    "    ])\n",
    "pd.DataFrame(columns=columns, data=lines).to_csv(f\"traj_{tgttop}.csv\", index=False)"
   ]
  },
  {
   "cell_type": "code",
   "execution_count": 21,
   "metadata": {},
   "outputs": [],
   "source": [
    "# 生成node.csv, edge.csv\n",
    "G = pickle.load(open(f\"../data_interface/G_{tgttop}.pkl\", \"rb\"))\n",
    "columns = [\"NodeID\", \"Longitude\", \"Latitude\", \"HasCamera\"]\n",
    "lines = []\n",
    "for nid, n in G.nodes(data=True):\n",
    "    lines.append([\n",
    "        str(nid),\n",
    "        str(round(n[\"x\"], 6)),\n",
    "        str(round(n[\"y\"], 6)),\n",
    "        '1' if n.get(\"camera\", None) else '0'\n",
    "    ])\n",
    "pd.DataFrame(columns=columns, data=lines).to_csv(f\"node_{tgttop}.csv\", index=False)\n",
    "columns = [\"Origin\", \"Destination\", \"Class\", \"Geometry\", \"Length\"]\n",
    "lines = []\n",
    "for _, _, e in G.edges(data=True):\n",
    "    lv = e[\"highway\"]\n",
    "    if not isinstance(lv, str):\n",
    "        lv = lv[0]\n",
    "    geo = \"_\".join([str(round(lon, 6)) + \"-\" + str(round(lat, 6)) for lon, lat in e[\"points_gps\"]])\n",
    "    lines.append([\n",
    "        str(e[\"od\"][0]),\n",
    "        str(e[\"od\"][1]),\n",
    "        lv,\n",
    "        geo,\n",
    "        str(round(e[\"length\"], 1))\n",
    "    ])\n",
    "pd.DataFrame(columns=columns, data=lines).to_csv(f\"edge_{tgttop}.csv\", index=False)"
   ]
  }
 ],
 "metadata": {
  "kernelspec": {
   "display_name": "virec",
   "language": "python",
   "name": "python3"
  },
  "language_info": {
   "codemirror_mode": {
    "name": "ipython",
    "version": 3
   },
   "file_extension": ".py",
   "mimetype": "text/x-python",
   "name": "python",
   "nbconvert_exporter": "python",
   "pygments_lexer": "ipython3",
   "version": "3.7.11"
  },
  "orig_nbformat": 4
 },
 "nbformat": 4,
 "nbformat_minor": 2
}
